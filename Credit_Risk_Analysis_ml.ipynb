{
  "nbformat": 4,
  "nbformat_minor": 0,
  "metadata": {
    "kernelspec": {
      "display_name": "Python 2",
      "language": "python",
      "name": "python2"
    },
    "language_info": {
      "codemirror_mode": {
        "name": "ipython",
        "version": 2
      },
      "file_extension": ".py",
      "mimetype": "text/x-python",
      "name": "python",
      "nbconvert_exporter": "python",
      "pygments_lexer": "ipython2",
      "version": "2.7.12"
    },
    "colab": {
      "name": "Credit Risk Analysis ml.ipynb",
      "provenance": [],
      "include_colab_link": true
    }
  },
  "cells": [
    {
      "cell_type": "markdown",
      "metadata": {
        "id": "view-in-github",
        "colab_type": "text"
      },
      "source": [
        "<a href=\"https://colab.research.google.com/github/ypadmajareddy/recipe-app/blob/master/Credit_Risk_Analysis_ml.ipynb\" target=\"_parent\"><img src=\"https://colab.research.google.com/assets/colab-badge.svg\" alt=\"Open In Colab\"/></a>"
      ]
    },
    {
      "cell_type": "markdown",
      "metadata": {
        "id": "jtDWsY-DZejT"
      },
      "source": [
        "### Basic data analysis or exploratory data analysis (EDA)"
      ]
    },
    {
      "cell_type": "code",
      "metadata": {
        "collapsed": true,
        "id": "3_ggZvOlZejX"
      },
      "source": [
        "\n",
        "import pandas as pd\n",
        "import numpy as np\n",
        "import seaborn as sns\n",
        "import matplotlib.pyplot as plt\n",
        "%matplotlib inline\n",
        "from pandas import read_csv\n",
        "from pandas.plotting import scatter_matrix\n",
        "from sklearn.model_selection import train_test_split\n",
        "from sklearn.model_selection import cross_val_score\n",
        "from sklearn.model_selection import StratifiedKFold\n",
        "from sklearn.metrics import classification_report\n",
        "from sklearn.metrics import confusion_matrix\n",
        "from sklearn.metrics import accuracy_score\n",
        "from sklearn.linear_model import LogisticRegression\n",
        "from sklearn.tree import DecisionTreeClassifier\n",
        "from sklearn.neighbors import KNeighborsClassifier\n",
        "from sklearn.discriminant_analysis import LinearDiscriminantAnalysis\n",
        "from sklearn.naive_bayes import GaussianNB\n",
        "from sklearn.svm import SVC"
      ],
      "execution_count": 26,
      "outputs": []
    },
    {
      "cell_type": "code",
      "metadata": {
        "id": "JIhOLTLsnDc7"
      },
      "source": [
        "!pip install -U -q PyDrive\r\n",
        "from pydrive.auth import GoogleAuth\r\n",
        "from pydrive.drive import GoogleDrive\r\n",
        "from google.colab import auth\r\n",
        "from oauth2client.client import GoogleCredentials\r\n",
        "\r\n",
        "auth.authenticate_user()\r\n",
        "gauth = GoogleAuth()\r\n",
        "gauth.credentials = GoogleCredentials.get_application_default()\r\n",
        "drive = GoogleDrive(gauth)"
      ],
      "execution_count": 6,
      "outputs": []
    },
    {
      "cell_type": "code",
      "metadata": {
        "id": "-3StBtYKnlgE"
      },
      "source": [
        "downloaded = drive.CreateFile({'id':'1jqc7FLZyu-1PIE5CGSrX2d-WMp4SIkqZ'}) # replace the id with id of file you want to access\r\n",
        "downloaded.GetContentFile('train7.csv')"
      ],
      "execution_count": 7,
      "outputs": []
    },
    {
      "cell_type": "code",
      "metadata": {
        "id": "0P_7neBdoSLm"
      },
      "source": [
        "DATASET_COLUMNS = [\"Amount of the given credit\", \"Gender\", \"Education\", \"Marital status\", \" Age\", \"History of past payment\"]\r\n",
        "DATASET_ENCODING = \"ISO-8859-1\""
      ],
      "execution_count": null,
      "outputs": []
    },
    {
      "cell_type": "code",
      "metadata": {
        "colab": {
          "base_uri": "https://localhost:8080/",
          "height": 224
        },
        "id": "WRaF24hXZejY",
        "outputId": "207a0573-be19-4295-a63f-ede34f232e3f"
      },
      "source": [
        "df = pd.read_csv('train7.csv') \n",
        "df.head(5)"
      ],
      "execution_count": 8,
      "outputs": [
        {
          "output_type": "execute_result",
          "data": {
            "text/plain": [
              "       X1  X2  X3  X4  X5  X6  X7  X8  X9  X10  ...    X15    X16    X17  \\\n",
              "0  300000   1   3   2  31   0   0   0   0    0  ...  86263  87238  89176   \n",
              "1   20000   1   2   2  24   0   0   0   0    0  ...  14694  16914  14074   \n",
              "2   90000   2   2   2  35  -1  -1  -1  -2   -2  ...      0      0      0   \n",
              "3  300000   2   2   1  40   1  -2  -2  -2   -2  ...      0      0      0   \n",
              "4   70000   2   2   2  36   0   0   0   0    0  ...  29314  28844  29443   \n",
              "\n",
              "    X18   X19   X20   X21   X22   X23  y  \n",
              "0  4000  4000  4100  3300  3500  3500  0  \n",
              "1  1313  2110  4000  6000  4000   174  0  \n",
              "2  2667     0     0     0     0     0  0  \n",
              "3     0     0     0     0     0     0  0  \n",
              "4  3340  2044  1773  1181  1215  1297  1  \n",
              "\n",
              "[5 rows x 24 columns]"
            ],
            "text/html": [
              "<div>\n",
              "<style scoped>\n",
              "    .dataframe tbody tr th:only-of-type {\n",
              "        vertical-align: middle;\n",
              "    }\n",
              "\n",
              "    .dataframe tbody tr th {\n",
              "        vertical-align: top;\n",
              "    }\n",
              "\n",
              "    .dataframe thead th {\n",
              "        text-align: right;\n",
              "    }\n",
              "</style>\n",
              "<table border=\"1\" class=\"dataframe\">\n",
              "  <thead>\n",
              "    <tr style=\"text-align: right;\">\n",
              "      <th></th>\n",
              "      <th>X1</th>\n",
              "      <th>X2</th>\n",
              "      <th>X3</th>\n",
              "      <th>X4</th>\n",
              "      <th>X5</th>\n",
              "      <th>X6</th>\n",
              "      <th>X7</th>\n",
              "      <th>X8</th>\n",
              "      <th>X9</th>\n",
              "      <th>X10</th>\n",
              "      <th>...</th>\n",
              "      <th>X15</th>\n",
              "      <th>X16</th>\n",
              "      <th>X17</th>\n",
              "      <th>X18</th>\n",
              "      <th>X19</th>\n",
              "      <th>X20</th>\n",
              "      <th>X21</th>\n",
              "      <th>X22</th>\n",
              "      <th>X23</th>\n",
              "      <th>y</th>\n",
              "    </tr>\n",
              "  </thead>\n",
              "  <tbody>\n",
              "    <tr>\n",
              "      <th>0</th>\n",
              "      <td>300000</td>\n",
              "      <td>1</td>\n",
              "      <td>3</td>\n",
              "      <td>2</td>\n",
              "      <td>31</td>\n",
              "      <td>0</td>\n",
              "      <td>0</td>\n",
              "      <td>0</td>\n",
              "      <td>0</td>\n",
              "      <td>0</td>\n",
              "      <td>...</td>\n",
              "      <td>86263</td>\n",
              "      <td>87238</td>\n",
              "      <td>89176</td>\n",
              "      <td>4000</td>\n",
              "      <td>4000</td>\n",
              "      <td>4100</td>\n",
              "      <td>3300</td>\n",
              "      <td>3500</td>\n",
              "      <td>3500</td>\n",
              "      <td>0</td>\n",
              "    </tr>\n",
              "    <tr>\n",
              "      <th>1</th>\n",
              "      <td>20000</td>\n",
              "      <td>1</td>\n",
              "      <td>2</td>\n",
              "      <td>2</td>\n",
              "      <td>24</td>\n",
              "      <td>0</td>\n",
              "      <td>0</td>\n",
              "      <td>0</td>\n",
              "      <td>0</td>\n",
              "      <td>0</td>\n",
              "      <td>...</td>\n",
              "      <td>14694</td>\n",
              "      <td>16914</td>\n",
              "      <td>14074</td>\n",
              "      <td>1313</td>\n",
              "      <td>2110</td>\n",
              "      <td>4000</td>\n",
              "      <td>6000</td>\n",
              "      <td>4000</td>\n",
              "      <td>174</td>\n",
              "      <td>0</td>\n",
              "    </tr>\n",
              "    <tr>\n",
              "      <th>2</th>\n",
              "      <td>90000</td>\n",
              "      <td>2</td>\n",
              "      <td>2</td>\n",
              "      <td>2</td>\n",
              "      <td>35</td>\n",
              "      <td>-1</td>\n",
              "      <td>-1</td>\n",
              "      <td>-1</td>\n",
              "      <td>-2</td>\n",
              "      <td>-2</td>\n",
              "      <td>...</td>\n",
              "      <td>0</td>\n",
              "      <td>0</td>\n",
              "      <td>0</td>\n",
              "      <td>2667</td>\n",
              "      <td>0</td>\n",
              "      <td>0</td>\n",
              "      <td>0</td>\n",
              "      <td>0</td>\n",
              "      <td>0</td>\n",
              "      <td>0</td>\n",
              "    </tr>\n",
              "    <tr>\n",
              "      <th>3</th>\n",
              "      <td>300000</td>\n",
              "      <td>2</td>\n",
              "      <td>2</td>\n",
              "      <td>1</td>\n",
              "      <td>40</td>\n",
              "      <td>1</td>\n",
              "      <td>-2</td>\n",
              "      <td>-2</td>\n",
              "      <td>-2</td>\n",
              "      <td>-2</td>\n",
              "      <td>...</td>\n",
              "      <td>0</td>\n",
              "      <td>0</td>\n",
              "      <td>0</td>\n",
              "      <td>0</td>\n",
              "      <td>0</td>\n",
              "      <td>0</td>\n",
              "      <td>0</td>\n",
              "      <td>0</td>\n",
              "      <td>0</td>\n",
              "      <td>0</td>\n",
              "    </tr>\n",
              "    <tr>\n",
              "      <th>4</th>\n",
              "      <td>70000</td>\n",
              "      <td>2</td>\n",
              "      <td>2</td>\n",
              "      <td>2</td>\n",
              "      <td>36</td>\n",
              "      <td>0</td>\n",
              "      <td>0</td>\n",
              "      <td>0</td>\n",
              "      <td>0</td>\n",
              "      <td>0</td>\n",
              "      <td>...</td>\n",
              "      <td>29314</td>\n",
              "      <td>28844</td>\n",
              "      <td>29443</td>\n",
              "      <td>3340</td>\n",
              "      <td>2044</td>\n",
              "      <td>1773</td>\n",
              "      <td>1181</td>\n",
              "      <td>1215</td>\n",
              "      <td>1297</td>\n",
              "      <td>1</td>\n",
              "    </tr>\n",
              "  </tbody>\n",
              "</table>\n",
              "<p>5 rows × 24 columns</p>\n",
              "</div>"
            ]
          },
          "metadata": {
            "tags": []
          },
          "execution_count": 8
        }
      ]
    },
    {
      "cell_type": "code",
      "metadata": {
        "colab": {
          "base_uri": "https://localhost:8080/"
        },
        "id": "8ZyIlOirQ1lT",
        "outputId": "4dbe1b9b-7d0f-45d9-ba8e-34c1eee3f663"
      },
      "source": [
        "print(df.shape)"
      ],
      "execution_count": 16,
      "outputs": [
        {
          "output_type": "stream",
          "text": [
            "(22500, 24)\n"
          ],
          "name": "stdout"
        }
      ]
    },
    {
      "cell_type": "code",
      "metadata": {
        "colab": {
          "base_uri": "https://localhost:8080/"
        },
        "id": "2vBagu2XRujU",
        "outputId": "2e3dc1cd-c161-4269-ef1a-9294bf5b8097"
      },
      "source": [
        "print(df.describe())"
      ],
      "execution_count": 17,
      "outputs": [
        {
          "output_type": "stream",
          "text": [
            "                   X1            X2            X3            X4            X5  \\\n",
            "count    22500.000000  22500.000000  22500.000000  22500.000000  22500.000000   \n",
            "mean    167405.319111      1.606978      1.852400      1.550044     35.502133   \n",
            "std     129534.293325      0.488433      0.792169      0.522087      9.231574   \n",
            "min      10000.000000      1.000000      0.000000      0.000000     21.000000   \n",
            "25%      50000.000000      1.000000      1.000000      1.000000     28.000000   \n",
            "50%     140000.000000      2.000000      2.000000      2.000000     34.000000   \n",
            "75%     240000.000000      2.000000      2.000000      2.000000     41.000000   \n",
            "max    1000000.000000      2.000000      6.000000      3.000000     75.000000   \n",
            "\n",
            "                 X6            X7            X8            X9           X10  \\\n",
            "count  22500.000000  22500.000000  22500.000000  22500.000000  22500.000000   \n",
            "mean      -0.017022     -0.134133     -0.171022     -0.223200     -0.266933   \n",
            "std        1.126169      1.195596      1.191513      1.168483      1.134080   \n",
            "min       -2.000000     -2.000000     -2.000000     -2.000000     -2.000000   \n",
            "25%       -1.000000     -1.000000     -1.000000     -1.000000     -1.000000   \n",
            "50%        0.000000      0.000000      0.000000      0.000000      0.000000   \n",
            "75%        0.000000      0.000000      0.000000      0.000000      0.000000   \n",
            "max        8.000000      8.000000      8.000000      8.000000      8.000000   \n",
            "\n",
            "       ...            X15            X16            X17            X18  \\\n",
            "count  ...   22500.000000   22500.000000   22500.000000   22500.000000   \n",
            "mean   ...   42928.125467   40110.392978   38761.746267    5647.976578   \n",
            "std    ...   63924.102396   60492.541788   59073.782313   17015.575713   \n",
            "min    ... -170000.000000  -81334.000000 -209051.000000       0.000000   \n",
            "25%    ...    2291.000000    1729.500000    1261.000000    1000.000000   \n",
            "50%    ...   18971.500000   18038.500000   17100.500000    2100.000000   \n",
            "75%    ...   54049.000000   50211.000000   49326.250000    5005.000000   \n",
            "max    ...  891586.000000  927171.000000  961664.000000  873552.000000   \n",
            "\n",
            "                X19            X20            X21            X22  \\\n",
            "count  2.250000e+04   22500.000000   22500.000000   22500.000000   \n",
            "mean   5.969874e+03    5203.429733    4869.174178    4857.948889   \n",
            "std    2.468042e+04   18036.973062   15990.912905   15808.695821   \n",
            "min    0.000000e+00       0.000000       0.000000       0.000000   \n",
            "25%    8.567500e+02     390.000000     284.000000     241.000000   \n",
            "50%    2.008500e+03    1800.000000    1500.000000    1500.000000   \n",
            "75%    5.000000e+03    4500.000000    4000.000000    4034.000000   \n",
            "max    1.684259e+06  896040.000000  621000.000000  426529.000000   \n",
            "\n",
            "                 X23             y  \n",
            "count   22500.000000  22500.000000  \n",
            "mean     5193.027644      0.222622  \n",
            "std     17551.318733      0.416016  \n",
            "min         0.000000      0.000000  \n",
            "25%       137.750000      0.000000  \n",
            "50%      1500.000000      0.000000  \n",
            "75%      4000.000000      0.000000  \n",
            "max    527143.000000      1.000000  \n",
            "\n",
            "[8 rows x 24 columns]\n"
          ],
          "name": "stdout"
        }
      ]
    },
    {
      "cell_type": "code",
      "metadata": {
        "colab": {
          "base_uri": "https://localhost:8080/"
        },
        "id": "OcwqMPJWSC1D",
        "outputId": "8df16985-13ca-4452-a46a-9e785d5133de"
      },
      "source": [
        "print(df.groupby('y').size())"
      ],
      "execution_count": 19,
      "outputs": [
        {
          "output_type": "stream",
          "text": [
            "y\n",
            "0    17491\n",
            "1     5009\n",
            "dtype: int64\n"
          ],
          "name": "stdout"
        }
      ]
    },
    {
      "cell_type": "code",
      "metadata": {
        "id": "A5EVaxvqSgrr"
      },
      "source": [
        "df.plot(kind='box', subplots=True, layout=(24,24), sharex=False, sharey=False)\r\n",
        "plt.show()"
      ],
      "execution_count": null,
      "outputs": []
    },
    {
      "cell_type": "markdown",
      "metadata": {
        "id": "mAfDJ2XKxIOA"
      },
      "source": [
        "Data Set Information:\r\n",
        "\r\n",
        "This research aimed at the case of customers default payments the binary result of classification - credible or not credible clients. \r\n",
        "\r\n",
        "\r\n",
        "Attribute Information:\r\n",
        "\r\n",
        "This research employed a binary variable \"y\", default payment (Yes = 1, No = 0), as the response variable. This study reviewed the literature and used the following 23 variables as explanatory variables:\r\n",
        "\r\n",
        "\r\n",
        "X1: Amount of the given credit (NT dollar): it includes both the individual consumer credit and his/her family (supplementary) credit.\r\n",
        "X2: Gender (1 = male; 2 = female).\r\n",
        "X3: Education (1 = graduate school; 2 = university; 3 = high school; 4 = others).\r\n",
        "X4: Marital status (1 = married; 2 = single; 3 = others).\r\n",
        "X5: Age (year).\r\n",
        "X6 - X11: History of past payment. We tracked the past monthly payment records (from April to September, 2005) as follows: X6 = the repayment status in September, 2005; X7 = the repayment status in August, 2005; . . .;X11 = the repayment status in April, 2005. The measurement scale for the repayment status is: -1 = pay duly; 1 = payment delay for one month; 2 = payment delay for two months; . . .; 8 = payment delay for eight months; 9 = payment delay for nine months and above.\r\n",
        "X12-X17: Amount of bill statement (NT dollar). X12 = amount of bill statement in September, 2005; X13 = amount of bill statement in August, 2005; . . .; X17 = amount of bill statement in April, 2005.\r\n",
        "X18-X23: Amount of previous payment (NT dollar). X18 = amount paid in September, 2005; X19 = amount paid in August, 2005; . . .;X23 = amount paid in April, 2005.\r\n",
        "\r\n"
      ]
    },
    {
      "cell_type": "code",
      "metadata": {
        "id": "3Nml3YVbxgzd"
      },
      "source": [
        "from sklearn.linear_model import LogisticRegression\r\n",
        "from sklearn.neighbors import KNeighborsClassifier\r\n",
        "from sklearn.ensemble import RandomForestClassifier, AdaBoostClassifier, GradientBoostingClassifier\r\n",
        "from sklearn.model_selection import train_test_split\r\n",
        "from sklearn.metrics import roc_auc_score"
      ],
      "execution_count": 9,
      "outputs": []
    },
    {
      "cell_type": "code",
      "metadata": {
        "id": "jPtzYeD25qOw"
      },
      "source": [
        "X = df.drop('y', axis = 1)\r\n",
        "y = df['y']"
      ],
      "execution_count": 10,
      "outputs": []
    },
    {
      "cell_type": "code",
      "metadata": {
        "id": "AHm_JklR73pU"
      },
      "source": [
        "X_train, X_test, y_train, y_test = train_test_split(X, y, test_size = 0.25)"
      ],
      "execution_count": 11,
      "outputs": []
    },
    {
      "cell_type": "code",
      "metadata": {
        "id": "vXTCvBJB789j"
      },
      "source": [
        "knn = KNeighborsClassifier(n_neighbors = 5, weights = 'uniform', algorithm = 'auto', leaf_size = 30, metric_params = None)\r\n",
        "logistic = LogisticRegression(penalty = 'l1', C = 1.0, verbose = 2, tol = 0.0001)\r\n",
        "adaboost = AdaBoostClassifier(base_estimator = None, n_estimators = 200, learning_rate = 1.0)\r\n",
        "gbdt = GradientBoostingClassifier(loss = 'deviance', learning_rate = 0.1, n_estimators = 200, min_samples_split = 2,\r\n",
        "                                  min_samples_leaf = 1, max_depth = 3, subsample = 1.0)\r\n",
        "forest = RandomForestClassifier(n_estimators = 10)"
      ],
      "execution_count": 12,
      "outputs": []
    },
    {
      "cell_type": "code",
      "metadata": {
        "colab": {
          "base_uri": "https://localhost:8080/"
        },
        "id": "lRTvUL0x8NLs",
        "outputId": "6de250da-c998-4e81-deb0-8ccb188622b2"
      },
      "source": [
        "knn.fit(X_train, y_train)"
      ],
      "execution_count": 14,
      "outputs": [
        {
          "output_type": "execute_result",
          "data": {
            "text/plain": [
              "KNeighborsClassifier(algorithm='auto', leaf_size=30, metric='minkowski',\n",
              "           metric_params=None, n_jobs=None, n_neighbors=5, p=2,\n",
              "           weights='uniform')"
            ]
          },
          "metadata": {
            "tags": []
          },
          "execution_count": 14
        }
      ]
    },
    {
      "cell_type": "code",
      "metadata": {
        "colab": {
          "base_uri": "https://localhost:8080/"
        },
        "id": "7XbBciXWQyu-",
        "outputId": "3ffcf93b-2b92-4211-86ef-013fc9b38332"
      },
      "source": [
        "# Spot Check Algorithms\r\n",
        "models = []\r\n",
        "models.append(('LR', LogisticRegression(solver='liblinear', multi_class='ovr')))\r\n",
        "models.append(('LDA', LinearDiscriminantAnalysis()))\r\n",
        "models.append(('KNN', KNeighborsClassifier()))\r\n",
        "models.append(('CART', DecisionTreeClassifier()))\r\n",
        "models.append(('NB', GaussianNB()))\r\n",
        "models.append(('SVM', SVC(gamma='auto')))\r\n",
        "# evaluate each model in turn\r\n",
        "results = []\r\n",
        "names = []\r\n",
        "for name, model in models:\r\n",
        "\tkfold = StratifiedKFold(n_splits=10, random_state=1, shuffle=True)\r\n",
        "\tcv_results = cross_val_score(model, X_train, y_train, cv=kfold, scoring='accuracy')\r\n",
        "\tresults.append(cv_results)\r\n",
        "\tnames.append(name)\r\n",
        "\tprint('%s: %f (%f)' % (name, cv_results.mean(), cv_results.std()))\r\n"
      ],
      "execution_count": 28,
      "outputs": [
        {
          "output_type": "stream",
          "text": [
            "LR: 0.778845 (0.000361)\n",
            "LDA: 0.813156 (0.004186)\n",
            "KNN: 0.753483 (0.005370)\n",
            "CART: 0.729303 (0.010151)\n",
            "NB: 0.384886 (0.015166)\n",
            "SVM: 0.779259 (0.001735)\n"
          ],
          "name": "stdout"
        }
      ]
    },
    {
      "cell_type": "code",
      "metadata": {
        "id": "UiSYnVEtapuk"
      },
      "source": [
        "model = SVC(gamma='auto')\r\n",
        "model.fit(X_train, y_train)\r\n",
        "predictions = model.predict(X_test)"
      ],
      "execution_count": 30,
      "outputs": []
    },
    {
      "cell_type": "code",
      "metadata": {
        "colab": {
          "base_uri": "https://localhost:8080/"
        },
        "id": "MwqPHKELb9v9",
        "outputId": "8399e5a7-87e8-4c05-bbc6-19826cb61240"
      },
      "source": [
        "print(accuracy_score(y_test, predictions))\r\n",
        "print(confusion_matrix(y_test, predictions))\r\n",
        "print(classification_report(y_test, predictions))"
      ],
      "execution_count": 31,
      "outputs": [
        {
          "output_type": "stream",
          "text": [
            "0.7749333333333334\n",
            "[[4327   17]\n",
            " [1249   32]]\n",
            "              precision    recall  f1-score   support\n",
            "\n",
            "           0       0.78      1.00      0.87      4344\n",
            "           1       0.65      0.02      0.05      1281\n",
            "\n",
            "   micro avg       0.77      0.77      0.77      5625\n",
            "   macro avg       0.71      0.51      0.46      5625\n",
            "weighted avg       0.75      0.77      0.68      5625\n",
            "\n"
          ],
          "name": "stdout"
        }
      ]
    }
  ]
}